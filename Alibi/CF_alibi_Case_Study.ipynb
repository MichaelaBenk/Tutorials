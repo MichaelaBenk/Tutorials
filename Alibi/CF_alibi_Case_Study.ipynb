{
 "cells": [
  {
   "cell_type": "markdown",
   "metadata": {
    "id": "-PbKT8sH63Wb"
   },
   "source": [
    "# Case Study: Explaining House Values with Counterfactual Explanations"
   ]
  },
  {
   "cell_type": "markdown",
   "metadata": {
    "id": "1ZtOW5TG63Wh"
   },
   "source": [
    "In this case study we explain the census tract (median) home values from the Boston metropolitan area with counterfactual explanations using alibi. We will closely follow the exposition in \n",
    "https://docs.seldon.io/projects/alibi/en/stable/examples/cfproto_housing.html\n",
    "to which we refer for all details."
   ]
  },
  {
   "cell_type": "markdown",
   "metadata": {
    "id": "V_euLRSW63Wh"
   },
   "source": [
    "## 1. Getting started with Python and Jupyter Notebook"
   ]
  },
  {
   "cell_type": "markdown",
   "metadata": {
    "id": "wRJdFP6863Wh"
   },
   "source": [
    "In this section, Jupyter Notebook and Python settings are initialized."
   ]
  },
  {
   "cell_type": "code",
   "execution_count": null,
   "metadata": {
    "colab": {
     "base_uri": "https://localhost:8080/",
     "height": 17
    },
    "id": "neDXwpyR63Wi",
    "outputId": "ab3bf2f4-f114-4245-cf23-56ef548b0e04"
   },
   "outputs": [],
   "source": [
    "# Notebook settings\n",
    "###################\n",
    "\n",
    "# resetting variables\n",
    "get_ipython().magic('reset -sf') \n",
    "\n",
    "# formatting: cell width\n",
    "from IPython.core.display import display, HTML\n",
    "display(HTML(\"<style>.container { width:100% !important; }</style>\"))\n",
    "\n",
    "# plotting\n",
    "%matplotlib inline"
   ]
  },
  {
   "cell_type": "markdown",
   "metadata": {
    "id": "2Jn9kk2H63Wj"
   },
   "source": [
    "## 2. Imports"
   ]
  },
  {
   "cell_type": "markdown",
   "metadata": {
    "id": "H5EBwVGP63Wj"
   },
   "source": [
    "We begin by initializing a seed for reproducability. Next we import all necessary libraries."
   ]
  },
  {
   "cell_type": "code",
   "execution_count": null,
   "metadata": {
    "colab": {
     "base_uri": "https://localhost:8080/",
     "height": 0
    },
    "id": "2sqqNEFt63Wk",
    "outputId": "bc83d4ce-0637-45ee-9873-b83a9e713eee"
   },
   "outputs": [],
   "source": [
    "import tensorflow as tf\n",
    "tf.get_logger().setLevel(40) # suppress deprecation messages\n",
    "tf.compat.v1.disable_v2_behavior() # disable TF2 behaviour as alibi code still relies on TF1 constructs\n",
    "\n",
    "import numpy as np\n",
    "import pandas as pd\n",
    "\n",
    "# random seed\n",
    "np.random.seed(42)\n",
    "tf.random.set_seed(42)\n",
    "\n",
    "from tensorflow.keras.layers import Dense, Input\n",
    "from tensorflow.keras.models import Model, load_model\n",
    "from tensorflow.keras.utils import to_categorical\n",
    "import matplotlib\n",
    "%matplotlib inline\n",
    "import matplotlib.pyplot as plt\n",
    "\n",
    "import os\n",
    "from sklearn.datasets import load_boston\n",
    "from alibi.explainers import CounterFactualProto\n",
    "\n",
    "print('TF version: ', tf.__version__)\n",
    "print('Eager execution enabled: ', tf.executing_eagerly()) # False"
   ]
  },
  {
   "cell_type": "markdown",
   "metadata": {
    "id": "jdoQ4uwt63Wk"
   },
   "source": [
    "## 3. Import Data\n"
   ]
  },
  {
   "cell_type": "code",
   "execution_count": null,
   "metadata": {
    "id": "KZVLXbFi63Wl"
   },
   "outputs": [],
   "source": [
    "# import data\n",
    "boston = load_boston()\n",
    "data = boston.data"
   ]
  },
  {
   "cell_type": "code",
   "execution_count": null,
   "metadata": {
    "colab": {
     "base_uri": "https://localhost:8080/",
     "height": 0
    },
    "id": "BzxDMdsO63Wl",
    "outputId": "0ce3c6ea-56d8-4bf3-9d42-687a1e0c834a"
   },
   "outputs": [],
   "source": [
    "# features and target variable\n",
    "feature_names = boston.feature_names\n",
    "target = boston.target\n",
    "print(feature_names)\n",
    "print(len(feature_names))"
   ]
  },
  {
   "cell_type": "code",
   "execution_count": null,
   "metadata": {
    "id": "2PHUK9Ve63Wl"
   },
   "outputs": [],
   "source": [
    "# Categorical target variable; when higher than median, give =1 \n",
    "y_cat = np.zeros((target.shape[0],))\n",
    "y_cat[np.where(target > np.median(target))[0]] = 1"
   ]
  },
  {
   "cell_type": "code",
   "execution_count": null,
   "metadata": {
    "colab": {
     "base_uri": "https://localhost:8080/",
     "height": 0
    },
    "id": "CjJY9RUY63Wl",
    "outputId": "37ff2bc7-5524-4a06-b900-03468776d799"
   },
   "outputs": [],
   "source": [
    "# rapid check on y_cat\n",
    "y_cat[:10]"
   ]
  },
  {
   "cell_type": "code",
   "execution_count": null,
   "metadata": {
    "colab": {
     "base_uri": "https://localhost:8080/",
     "height": 0
    },
    "id": "gCorEg6J63Wm",
    "outputId": "61e312f3-5530-44eb-c450-b8393ae96c26"
   },
   "outputs": [],
   "source": [
    "# median of the variable target \n",
    "np.median(target)"
   ]
  },
  {
   "cell_type": "markdown",
   "metadata": {
    "id": "p1PUTTOc63Wm"
   },
   "source": [
    "## 4. Data Explorative Analysis"
   ]
  },
  {
   "cell_type": "code",
   "execution_count": null,
   "metadata": {
    "id": "G9O25wwZ63Wm"
   },
   "outputs": [],
   "source": [
    "# data as dataframe - we join the target variables, as well\n",
    "df = pd.DataFrame(boston.data, columns=boston.feature_names)\n",
    "df = pd.concat([df, pd.Series(target, name='target')], axis=1)"
   ]
  },
  {
   "cell_type": "code",
   "execution_count": null,
   "metadata": {
    "colab": {
     "base_uri": "https://localhost:8080/",
     "height": 0
    },
    "id": "xdkGgHC163Wm",
    "outputId": "369840e0-2546-4044-8715-31865c92e5f9"
   },
   "outputs": [],
   "source": [
    "# checking missing values\n",
    "df.isnull().sum()"
   ]
  },
  {
   "cell_type": "code",
   "execution_count": null,
   "metadata": {
    "colab": {
     "base_uri": "https://localhost:8080/",
     "height": 297
    },
    "id": "7XzKZHoS63Wn",
    "outputId": "68c6b6c9-6980-4f2a-d30e-4b2defc58123"
   },
   "outputs": [],
   "source": [
    "# we describe data\n",
    "pd.set_option('precision', 2)\n",
    "df.describe()"
   ]
  },
  {
   "cell_type": "code",
   "execution_count": null,
   "metadata": {
    "colab": {
     "base_uri": "https://localhost:8080/",
     "height": 879
    },
    "id": "SccEs7PT63Wn",
    "outputId": "b7a8fb35-7cf7-412f-fb1a-7133f1dbfd50"
   },
   "outputs": [],
   "source": [
    "# Data visualizations\n",
    "\n",
    "# histograms\n",
    "df.hist(bins=10,figsize=(15, 15), grid=False)\n",
    "\n",
    "# save the plot \n",
    "#plt.savefig('INSERT PATH')\n",
    "plt.show()"
   ]
  },
  {
   "cell_type": "markdown",
   "metadata": {
    "id": "X7t__KoT63Wn"
   },
   "source": [
    "## 5. Multivariate exploration"
   ]
  },
  {
   "cell_type": "code",
   "execution_count": null,
   "metadata": {
    "colab": {
     "base_uri": "https://localhost:8080/",
     "height": 452
    },
    "id": "VbHn7PtA63Wn",
    "outputId": "87b49473-1b50-49e2-b0af-227fc4a5fef9"
   },
   "outputs": [],
   "source": [
    "# correlation analysis\n",
    "pd.set_option('precision', 2)\n",
    "df.drop(['CHAS'], axis=1).corr(method='pearson')"
   ]
  },
  {
   "cell_type": "code",
   "execution_count": null,
   "metadata": {
    "colab": {
     "base_uri": "https://localhost:8080/",
     "height": 350
    },
    "id": "K5ZzV_KX63Wn",
    "outputId": "42fbeec9-b663-4de8-af3c-925d4480a3f2"
   },
   "outputs": [],
   "source": [
    "# bivariate plots with high correlation features (>0.4)\n",
    "features = df.drop(['CRIM', 'ZN', 'CHAS',  'AGE', 'DIS', 'RAD', 'B', 'target'], axis = 1)\n",
    "plt.figure(figsize=(20, 5))\n",
    "\n",
    "# i: index\n",
    "for i, col in enumerate(features.columns):\n",
    "    # 3 plots here hence 1, 3\n",
    "    plt.subplot(1, 6, i+1)\n",
    "    x = df[col]\n",
    "    y = df.target\n",
    "    plt.plot(x, y, 'o')\n",
    "    \n",
    "    # Create regression line\n",
    "    plt.plot(np.unique(x), np.poly1d(np.polyfit(x, y, 1))(np.unique(x)))\n",
    "    plt.title(col)\n",
    "    plt.xlabel(col)\n",
    "    plt.ylabel('target')\n",
    "\n",
    "#plt.savefig('INSERT PATH')\n",
    "plt.show()"
   ]
  },
  {
   "cell_type": "markdown",
   "metadata": {
    "id": "s3rrXtPa63Wo"
   },
   "source": [
    "## 6. Data Preprocessing "
   ]
  },
  {
   "cell_type": "code",
   "execution_count": null,
   "metadata": {
    "colab": {
     "base_uri": "https://localhost:8080/",
     "height": 0
    },
    "id": "sHFAMiZL63Wo",
    "outputId": "18ce86c2-757b-463c-df7d-1de9b20e7e0f"
   },
   "outputs": [],
   "source": [
    "# Delecte categorical variable CHAS \n",
    "# CHAS = Charles River dummy variable (= 1 if tract bounds river; 0 otherwise).\n",
    "data = np.delete(data, 3, 1)\n",
    "feature_names = np.delete(feature_names, 3)\n",
    "feature_names"
   ]
  },
  {
   "cell_type": "code",
   "execution_count": null,
   "metadata": {
    "id": "WfEPU1GY63Wo"
   },
   "outputs": [],
   "source": [
    "# Standardize data \n",
    "mu = data.mean(axis=0)\n",
    "sigma = data.std(axis=0)\n",
    "data = (data - mu) / sigma"
   ]
  },
  {
   "cell_type": "markdown",
   "metadata": {
    "id": "YFGIeU3B63Wo"
   },
   "source": [
    "## 7. Machine learning Modeling with Tensorflow"
   ]
  },
  {
   "cell_type": "code",
   "execution_count": null,
   "metadata": {
    "id": "_pArnpNp63Wq"
   },
   "outputs": [],
   "source": [
    "# we split data into train and test, before categorizing y_train and y_test\n",
    "idx = 475\n",
    "x_train, y_train = data[:idx,:], y_cat[:idx]\n",
    "x_test, y_test = data[idx:,:], y_cat[idx:]\n",
    "\n",
    "y_train = to_categorical(y_train)\n",
    "y_test = to_categorical(y_test)"
   ]
  },
  {
   "cell_type": "code",
   "execution_count": null,
   "metadata": {
    "colab": {
     "base_uri": "https://localhost:8080/",
     "height": 0
    },
    "id": "eOICVbbp63Wq",
    "outputId": "a1c72856-37ed-428e-f4f4-1a8235e05384"
   },
   "outputs": [],
   "source": [
    "# quick check on shapes\n",
    "print(y_train.shape)\n",
    "print(y_test.shape)"
   ]
  },
  {
   "cell_type": "markdown",
   "metadata": {
    "id": "9_3bjd8R63Wq"
   },
   "source": [
    "## 8. The Tensorflow Model"
   ]
  },
  {
   "cell_type": "code",
   "execution_count": null,
   "metadata": {
    "id": "0WmpEIDp63Wq"
   },
   "outputs": [],
   "source": [
    "# we compute two distinct metrics\n",
    "from tensorflow import keras\n",
    "METRICS = [ \n",
    "      keras.metrics.BinaryAccuracy(name='accuracy'),\n",
    "      keras.metrics.AUC(name='auc')\n",
    "]"
   ]
  },
  {
   "cell_type": "code",
   "execution_count": null,
   "metadata": {
    "id": "ECkHauxB63Wq"
   },
   "outputs": [],
   "source": [
    "# neural network: model definition\n",
    "def nn_model():\n",
    "    x_in = Input(shape=(12,))\n",
    "    x = Dense(40, activation='relu')(x_in)\n",
    "    x = Dense(40, activation='relu')(x)\n",
    "    x_out = Dense(2, activation='softmax')(x)\n",
    "    nn = Model(inputs=x_in, outputs=x_out)\n",
    "    nn.compile(loss='categorical_crossentropy', optimizer='sgd', metrics=METRICS)\n",
    "    return nn"
   ]
  },
  {
   "cell_type": "code",
   "execution_count": null,
   "metadata": {
    "colab": {
     "base_uri": "https://localhost:8080/",
     "height": 0
    },
    "id": "wk9yrHbn63Wr",
    "outputId": "96f147f3-40fc-4591-c906-5cd91be18f9f"
   },
   "outputs": [],
   "source": [
    "# fitting and saving the model\n",
    "nn = nn_model()\n",
    "nn.summary()\n",
    "nn.fit(x_train, y_train, batch_size=64, epochs=500, verbose=0)\n",
    "nn.save('INSERT MODEL NAME.h5', save_format='h5')"
   ]
  },
  {
   "cell_type": "code",
   "execution_count": null,
   "metadata": {
    "colab": {
     "base_uri": "https://localhost:8080/",
     "height": 0
    },
    "id": "2KlG_Itv63Wr",
    "outputId": "483ab1d9-3297-4bfe-a855-6fdd6acd4ad5"
   },
   "outputs": [],
   "source": [
    "# loading the model and computing test performance\n",
    "nn = load_model('INSERT MODEL NAME.h5')  \n",
    "score = nn.evaluate(x_test, y_test, verbose=0)\n",
    "print(nn.metrics_names)\n",
    "print('Test accuracy: ', score[1])\n",
    "print('Test AUC: ', score[2])"
   ]
  },
  {
   "cell_type": "code",
   "execution_count": null,
   "metadata": {
    "id": "YmYewiTB63Wr"
   },
   "outputs": [],
   "source": [
    "# saving model weights\n",
    "nn.save_weights('INSERT PATH')"
   ]
  },
  {
   "cell_type": "markdown",
   "metadata": {
    "id": "TyY5h_Xo63Wr"
   },
   "source": [
    "## 9. Generation of Counterfactual Explanations"
   ]
  },
  {
   "cell_type": "code",
   "execution_count": null,
   "metadata": {
    "colab": {
     "base_uri": "https://localhost:8080/",
     "height": 0
    },
    "id": "y3kBmnhF63Wr",
    "outputId": "9254c350-aa4d-43dc-ae67-e84eae3b4c7d"
   },
   "outputs": [],
   "source": [
    "# we choose a data point (whose outcome) to be explained\n",
    "# in the notes we used x_test[1] and x_test[2]\n",
    "X = x_test[1].reshape((1,) + x_test[1].shape)\n",
    "shape = X.shape\n",
    "X"
   ]
  },
  {
   "cell_type": "code",
   "execution_count": null,
   "metadata": {
    "colab": {
     "base_uri": "https://localhost:8080/",
     "height": 0
    },
    "id": "n_rJIqPd63Ws",
    "outputId": "a61d86cc-3386-464f-a625-6a12848d93cd"
   },
   "outputs": [],
   "source": [
    "# unnormalizing X - original values\n",
    "orig = X * sigma + mu\n",
    "orig"
   ]
  },
  {
   "cell_type": "code",
   "execution_count": null,
   "metadata": {
    "id": "YEo6HVcK63Ws"
   },
   "outputs": [],
   "source": [
    "# checkpoint: use the fitted model or load another one\n",
    "nn = load_model('INSERT MODEL NAME.h5')  "
   ]
  },
  {
   "cell_type": "code",
   "execution_count": null,
   "metadata": {
    "id": "j7qCva9e63Ws"
   },
   "outputs": [],
   "source": [
    "# alibi imports\n",
    "import alibi\n",
    "from alibi.explainers import CounterFactual"
   ]
  },
  {
   "cell_type": "code",
   "execution_count": null,
   "metadata": {
    "id": "cOI8bHfu63Ws"
   },
   "outputs": [],
   "source": [
    "# setting the parameters for configurations 1,2\n",
    "target_proba = 1.0\n",
    "tol = 0.1\n",
    "target_class = 'other'\n",
    "max_iter = 1000\n",
    "lam_init = 1\n",
    "max_lam_steps = 100\n",
    "learning_rate_init = 0.1 "
   ]
  },
  {
   "cell_type": "code",
   "execution_count": null,
   "metadata": {
    "id": "cdjNrJHn63Ws"
   },
   "outputs": [],
   "source": [
    "# preparation to compute counterfactuals\n",
    "cf = CounterFactual(nn, \n",
    "                    target_proba=target_proba, \n",
    "                    target_class='other',\n",
    "                    tol=tol, \n",
    "                    shape=shape,\n",
    "                    #early_stop=50,\n",
    "                    feature_range= (x_train.min(axis=0), x_train.max(axis=0)), \n",
    "                    max_iter=max_iter, \n",
    "                    lam_init=lam_init, \n",
    "                    max_lam_steps=max_lam_steps,\n",
    "                    learning_rate_init=learning_rate_init)"
   ]
  },
  {
   "cell_type": "code",
   "execution_count": null,
   "metadata": {
    "colab": {
     "base_uri": "https://localhost:8080/",
     "height": 0
    },
    "id": "TzaI5bJ463Wt",
    "outputId": "d8fcd078-2855-4e98-e167-5dbae99ef40f"
   },
   "outputs": [],
   "source": [
    "# computing counterfactuals\n",
    "%%time\n",
    "explanation = cf.explain(X)\n",
    "counterfactual = explanation.cf['X'][0]\n",
    "counterfactual"
   ]
  },
  {
   "cell_type": "code",
   "execution_count": null,
   "metadata": {
    "colab": {
     "base_uri": "https://localhost:8080/",
     "height": 0
    },
    "id": "pC5zQ6pX63Wt",
    "outputId": "e48bec11-2f32-48da-bd25-570b9a66b60b"
   },
   "outputs": [],
   "source": [
    "# probability of X\n",
    "explanation.orig_proba"
   ]
  },
  {
   "cell_type": "code",
   "execution_count": null,
   "metadata": {
    "colab": {
     "base_uri": "https://localhost:8080/",
     "height": 0
    },
    "id": "j9k3J38U63Wt",
    "outputId": "0ea848f5-aeda-463e-fcaf-2bc2bdcd3d57"
   },
   "outputs": [],
   "source": [
    "# probabilities of the counterfactual\n",
    "explanation.cf['proba']"
   ]
  },
  {
   "cell_type": "code",
   "execution_count": null,
   "metadata": {
    "colab": {
     "base_uri": "https://localhost:8080/",
     "height": 0
    },
    "id": "5pnN4hsS63Wt",
    "outputId": "338d27ce-fc9f-46cd-e154-73c03eb0e417"
   },
   "outputs": [],
   "source": [
    "# counterfactual data point\n",
    "counterfactual"
   ]
  },
  {
   "cell_type": "code",
   "execution_count": null,
   "metadata": {
    "colab": {
     "base_uri": "https://localhost:8080/",
     "height": 0
    },
    "id": "0oGu1OKe63Wu",
    "outputId": "bde7e0d8-7f79-49e3-dd94-bf1b0e48fd9e"
   },
   "outputs": [],
   "source": [
    "# checking classes\n",
    "print('Original prediction: {}'.format(explanation.orig_class))\n",
    "print('Counterfactual prediction: {}'.format(explanation.cf['class']))"
   ]
  },
  {
   "cell_type": "code",
   "execution_count": null,
   "metadata": {
    "colab": {
     "base_uri": "https://localhost:8080/",
     "height": 0
    },
    "id": "ju7HRODn63Wu",
    "outputId": "4d389267-5574-4481-daaa-eb7ea1b5f1fb"
   },
   "outputs": [],
   "source": [
    "# list of deltas with tolerance 1e-4 (see notes)\n",
    "orig = X * sigma + mu\n",
    "counterfactual = explanation.cf['X'] * sigma + mu\n",
    "delta = counterfactual - orig\n",
    "for i, f in enumerate(feature_names):\n",
    "    if np.abs(delta[0][i]) > 1e-4:\n",
    "        print('{}: {}'.format(f, delta[0][i]))"
   ]
  },
  {
   "cell_type": "code",
   "execution_count": null,
   "metadata": {
    "id": "x57TFVVi63Wu"
   },
   "outputs": [],
   "source": [
    "# End of notebook"
   ]
  }
 ],
 "metadata": {
  "colab": {
   "name": "CF_alibi_Case_Study.ipynb",
   "provenance": []
  },
  "kernelspec": {
   "display_name": "Python 3",
   "language": "python",
   "name": "python3"
  },
  "language_info": {
   "codemirror_mode": {
    "name": "ipython",
    "version": 3
   },
   "file_extension": ".py",
   "mimetype": "text/x-python",
   "name": "python",
   "nbconvert_exporter": "python",
   "pygments_lexer": "ipython3",
   "version": "3.8.2"
  }
 },
 "nbformat": 4,
 "nbformat_minor": 1
}
