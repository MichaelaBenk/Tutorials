{
  "nbformat": 4,
  "nbformat_minor": 0,
  "metadata": {
    "kernelspec": {
      "display_name": "Python 3",
      "language": "python",
      "name": "python3"
    },
    "language_info": {
      "codemirror_mode": {
        "name": "ipython",
        "version": 3
      },
      "file_extension": ".py",
      "mimetype": "text/x-python",
      "name": "python",
      "nbconvert_exporter": "python",
      "pygments_lexer": "ipython3",
      "version": "3.8.2"
    },
    "colab": {
      "name": "CF_alibi_Case_Study.ipynb",
      "provenance": []
    }
  },
  "cells": [
    {
      "cell_type": "markdown",
      "metadata": {
        "id": "-PbKT8sH63Wb"
      },
      "source": [
        "# Case Study: Explaining House Values with Counterfactual Explanations"
      ]
    },
    {
      "cell_type": "markdown",
      "metadata": {
        "id": "1ZtOW5TG63Wh"
      },
      "source": [
        "In this case study we explain the census tract (median) home values from the Boston metropolitan area with counterfactual explanations using alibi. We will closely follow the exposition in \n",
        "https://docs.seldon.io/projects/alibi/en/stable/examples/cfproto_housing.html\n",
        "to which we refer for all details."
      ]
    },
    {
      "cell_type": "markdown",
      "metadata": {
        "id": "V_euLRSW63Wh"
      },
      "source": [
        "## 1. Getting started with Python and Jupyter Notebook"
      ]
    },
    {
      "cell_type": "markdown",
      "metadata": {
        "id": "wRJdFP6863Wh"
      },
      "source": [
        "In this section, Jupyter Notebook and Python settings are initialized."
      ]
    },
    {
      "cell_type": "code",
      "metadata": {
        "colab": {
          "base_uri": "https://localhost:8080/",
          "height": 17
        },
        "id": "neDXwpyR63Wi",
        "outputId": "ab3bf2f4-f114-4245-cf23-56ef548b0e04"
      },
      "source": [
        "# Notebook settings\n",
        "###################\n",
        "\n",
        "# resetting variables\n",
        "get_ipython().magic('reset -sf') \n",
        "\n",
        "# formatting: cell width\n",
        "from IPython.core.display import display, HTML\n",
        "display(HTML(\"<style>.container { width:100% !important; }</style>\"))\n",
        "\n",
        "# plotting\n",
        "%matplotlib inline"
      ],
      "execution_count": 1,
      "outputs": [
        {
          "output_type": "display_data",
          "data": {
            "text/html": [
              "<style>.container { width:100% !important; }</style>"
            ],
            "text/plain": [
              "<IPython.core.display.HTML object>"
            ]
          },
          "metadata": {
            "tags": []
          }
        }
      ]
    },
    {
      "cell_type": "markdown",
      "metadata": {
        "id": "2Jn9kk2H63Wj"
      },
      "source": [
        "## 2. Imports"
      ]
    },
    {
      "cell_type": "markdown",
      "metadata": {
        "id": "H5EBwVGP63Wj"
      },
      "source": [
        "We begin by initializing a seed for reproducability. Next we import all necessary libraries."
      ]
    },
    {
      "cell_type": "code",
      "metadata": {
        "colab": {
          "base_uri": "https://localhost:8080/",
          "height": 0
        },
        "id": "2sqqNEFt63Wk",
        "outputId": "bc83d4ce-0637-45ee-9873-b83a9e713eee"
      },
      "source": [
        "import tensorflow as tf\n",
        "tf.get_logger().setLevel(40) # suppress deprecation messages\n",
        "tf.compat.v1.disable_v2_behavior() # disable TF2 behaviour as alibi code still relies on TF1 constructs\n",
        "\n",
        "import numpy as np\n",
        "import pandas as pd\n",
        "\n",
        "# random seed\n",
        "np.random.seed(42)\n",
        "tf.random.set_seed(42)\n",
        "\n",
        "from tensorflow.keras.layers import Dense, Input\n",
        "from tensorflow.keras.models import Model, load_model\n",
        "from tensorflow.keras.utils import to_categorical\n",
        "import matplotlib\n",
        "%matplotlib inline\n",
        "import matplotlib.pyplot as plt\n",
        "\n",
        "import os\n",
        "from sklearn.datasets import load_boston\n",
        "from alibi.explainers import CounterFactualProto\n",
        "\n",
        "print('TF version: ', tf.__version__)\n",
        "print('Eager execution enabled: ', tf.executing_eagerly()) # False"
      ],
      "execution_count": 2,
      "outputs": [
        {
          "output_type": "stream",
          "text": [
            "TF version:  2.3.0\n",
            "Eager execution enabled:  False\n"
          ],
          "name": "stdout"
        }
      ]
    },
    {
      "cell_type": "markdown",
      "metadata": {
        "id": "jdoQ4uwt63Wk"
      },
      "source": [
        "## 3. Import Data\n"
      ]
    },
    {
      "cell_type": "code",
      "metadata": {
        "id": "KZVLXbFi63Wl"
      },
      "source": [
        "# import data\n",
        "boston = load_boston()\n",
        "data = boston.data"
      ],
      "execution_count": 3,
      "outputs": []
    },
    {
      "cell_type": "code",
      "metadata": {
        "colab": {
          "base_uri": "https://localhost:8080/",
          "height": 0
        },
        "id": "BzxDMdsO63Wl",
        "outputId": "0ce3c6ea-56d8-4bf3-9d42-687a1e0c834a"
      },
      "source": [
        "# features and target variable\n",
        "feature_names = boston.feature_names\n",
        "target = boston.target\n",
        "print(feature_names)\n",
        "print(len(feature_names))"
      ],
      "execution_count": 4,
      "outputs": [
        {
          "output_type": "stream",
          "text": [
            "['CRIM' 'ZN' 'INDUS' 'CHAS' 'NOX' 'RM' 'AGE' 'DIS' 'RAD' 'TAX' 'PTRATIO'\n",
            " 'B' 'LSTAT']\n",
            "13\n"
          ],
          "name": "stdout"
        }
      ]
    },
    {
      "cell_type": "code",
      "metadata": {
        "id": "2PHUK9Ve63Wl"
      },
      "source": [
        "# Categorical target variable; when higher than median, give =1 \n",
        "y_cat = np.zeros((target.shape[0],))\n",
        "y_cat[np.where(target > np.median(target))[0]] = 1"
      ],
      "execution_count": 5,
      "outputs": []
    },
    {
      "cell_type": "code",
      "metadata": {
        "colab": {
          "base_uri": "https://localhost:8080/",
          "height": 0
        },
        "id": "CjJY9RUY63Wl",
        "outputId": "37ff2bc7-5524-4a06-b900-03468776d799"
      },
      "source": [
        "# rapid check on y_cat\n",
        "y_cat[:10]"
      ],
      "execution_count": 6,
      "outputs": [
        {
          "output_type": "execute_result",
          "data": {
            "text/plain": [
              "array([1., 1., 1., 1., 1., 1., 1., 1., 0., 0.])"
            ]
          },
          "metadata": {
            "tags": []
          },
          "execution_count": 6
        }
      ]
    },
    {
      "cell_type": "code",
      "metadata": {
        "colab": {
          "base_uri": "https://localhost:8080/",
          "height": 0
        },
        "id": "gCorEg6J63Wm",
        "outputId": "61e312f3-5530-44eb-c450-b8393ae96c26"
      },
      "source": [
        "# median of the variable target \n",
        "np.median(target)"
      ],
      "execution_count": 7,
      "outputs": [
        {
          "output_type": "execute_result",
          "data": {
            "text/plain": [
              "21.2"
            ]
          },
          "metadata": {
            "tags": []
          },
          "execution_count": 7
        }
      ]
    },
    {
      "cell_type": "markdown",
      "metadata": {
        "id": "p1PUTTOc63Wm"
      },
      "source": [
        "## 4. Data Explorative Analysis"
      ]
    },
    {
      "cell_type": "code",
      "metadata": {
        "id": "G9O25wwZ63Wm"
      },
      "source": [
        "# data as dataframe - we join the target variables, as well\n",
        "df = pd.DataFrame(boston.data, columns=boston.feature_names)\n",
        "df = pd.concat([df, pd.Series(target, name='target')], axis=1)"
      ],
      "execution_count": 8,
      "outputs": []
    },
    {
      "cell_type": "code",
      "metadata": {
        "colab": {
          "base_uri": "https://localhost:8080/",
          "height": 0
        },
        "id": "xdkGgHC163Wm",
        "outputId": "369840e0-2546-4044-8715-31865c92e5f9"
      },
      "source": [
        "# checking missing values\n",
        "df.isnull().sum()"
      ],
      "execution_count": 9,
      "outputs": [
        {
          "output_type": "execute_result",
          "data": {
            "text/plain": [
              "CRIM       0\n",
              "ZN         0\n",
              "INDUS      0\n",
              "CHAS       0\n",
              "NOX        0\n",
              "RM         0\n",
              "AGE        0\n",
              "DIS        0\n",
              "RAD        0\n",
              "TAX        0\n",
              "PTRATIO    0\n",
              "B          0\n",
              "LSTAT      0\n",
              "target     0\n",
              "dtype: int64"
            ]
          },
          "metadata": {
            "tags": []
          },
          "execution_count": 9
        }
      ]
    },
    {
      "cell_type": "code",
      "metadata": {
        "colab": {
          "base_uri": "https://localhost:8080/",
          "height": 297
        },
        "id": "7XzKZHoS63Wn",
        "outputId": "68c6b6c9-6980-4f2a-d30e-4b2defc58123"
      },
      "source": [
        "# we describe data\n",
        "pd.set_option('precision', 2)\n",
        "df.describe()"
      ],
      "execution_count": 10,
      "outputs": [
        {
          "output_type": "execute_result",
          "data": {
            "text/html": [
              "<div>\n",
              "<style scoped>\n",
              "    .dataframe tbody tr th:only-of-type {\n",
              "        vertical-align: middle;\n",
              "    }\n",
              "\n",
              "    .dataframe tbody tr th {\n",
              "        vertical-align: top;\n",
              "    }\n",
              "\n",
              "    .dataframe thead th {\n",
              "        text-align: right;\n",
              "    }\n",
              "</style>\n",
              "<table border=\"1\" class=\"dataframe\">\n",
              "  <thead>\n",
              "    <tr style=\"text-align: right;\">\n",
              "      <th></th>\n",
              "      <th>CRIM</th>\n",
              "      <th>ZN</th>\n",
              "      <th>INDUS</th>\n",
              "      <th>CHAS</th>\n",
              "      <th>NOX</th>\n",
              "      <th>RM</th>\n",
              "      <th>AGE</th>\n",
              "      <th>DIS</th>\n",
              "      <th>RAD</th>\n",
              "      <th>TAX</th>\n",
              "      <th>PTRATIO</th>\n",
              "      <th>B</th>\n",
              "      <th>LSTAT</th>\n",
              "      <th>target</th>\n",
              "    </tr>\n",
              "  </thead>\n",
              "  <tbody>\n",
              "    <tr>\n",
              "      <th>count</th>\n",
              "      <td>5.06e+02</td>\n",
              "      <td>506.00</td>\n",
              "      <td>506.00</td>\n",
              "      <td>506.00</td>\n",
              "      <td>506.00</td>\n",
              "      <td>506.00</td>\n",
              "      <td>506.00</td>\n",
              "      <td>506.00</td>\n",
              "      <td>506.00</td>\n",
              "      <td>506.00</td>\n",
              "      <td>506.00</td>\n",
              "      <td>506.00</td>\n",
              "      <td>506.00</td>\n",
              "      <td>506.00</td>\n",
              "    </tr>\n",
              "    <tr>\n",
              "      <th>mean</th>\n",
              "      <td>3.61e+00</td>\n",
              "      <td>11.36</td>\n",
              "      <td>11.14</td>\n",
              "      <td>0.07</td>\n",
              "      <td>0.55</td>\n",
              "      <td>6.28</td>\n",
              "      <td>68.57</td>\n",
              "      <td>3.80</td>\n",
              "      <td>9.55</td>\n",
              "      <td>408.24</td>\n",
              "      <td>18.46</td>\n",
              "      <td>356.67</td>\n",
              "      <td>12.65</td>\n",
              "      <td>22.53</td>\n",
              "    </tr>\n",
              "    <tr>\n",
              "      <th>std</th>\n",
              "      <td>8.60e+00</td>\n",
              "      <td>23.32</td>\n",
              "      <td>6.86</td>\n",
              "      <td>0.25</td>\n",
              "      <td>0.12</td>\n",
              "      <td>0.70</td>\n",
              "      <td>28.15</td>\n",
              "      <td>2.11</td>\n",
              "      <td>8.71</td>\n",
              "      <td>168.54</td>\n",
              "      <td>2.16</td>\n",
              "      <td>91.29</td>\n",
              "      <td>7.14</td>\n",
              "      <td>9.20</td>\n",
              "    </tr>\n",
              "    <tr>\n",
              "      <th>min</th>\n",
              "      <td>6.32e-03</td>\n",
              "      <td>0.00</td>\n",
              "      <td>0.46</td>\n",
              "      <td>0.00</td>\n",
              "      <td>0.39</td>\n",
              "      <td>3.56</td>\n",
              "      <td>2.90</td>\n",
              "      <td>1.13</td>\n",
              "      <td>1.00</td>\n",
              "      <td>187.00</td>\n",
              "      <td>12.60</td>\n",
              "      <td>0.32</td>\n",
              "      <td>1.73</td>\n",
              "      <td>5.00</td>\n",
              "    </tr>\n",
              "    <tr>\n",
              "      <th>25%</th>\n",
              "      <td>8.20e-02</td>\n",
              "      <td>0.00</td>\n",
              "      <td>5.19</td>\n",
              "      <td>0.00</td>\n",
              "      <td>0.45</td>\n",
              "      <td>5.89</td>\n",
              "      <td>45.02</td>\n",
              "      <td>2.10</td>\n",
              "      <td>4.00</td>\n",
              "      <td>279.00</td>\n",
              "      <td>17.40</td>\n",
              "      <td>375.38</td>\n",
              "      <td>6.95</td>\n",
              "      <td>17.02</td>\n",
              "    </tr>\n",
              "    <tr>\n",
              "      <th>50%</th>\n",
              "      <td>2.57e-01</td>\n",
              "      <td>0.00</td>\n",
              "      <td>9.69</td>\n",
              "      <td>0.00</td>\n",
              "      <td>0.54</td>\n",
              "      <td>6.21</td>\n",
              "      <td>77.50</td>\n",
              "      <td>3.21</td>\n",
              "      <td>5.00</td>\n",
              "      <td>330.00</td>\n",
              "      <td>19.05</td>\n",
              "      <td>391.44</td>\n",
              "      <td>11.36</td>\n",
              "      <td>21.20</td>\n",
              "    </tr>\n",
              "    <tr>\n",
              "      <th>75%</th>\n",
              "      <td>3.68e+00</td>\n",
              "      <td>12.50</td>\n",
              "      <td>18.10</td>\n",
              "      <td>0.00</td>\n",
              "      <td>0.62</td>\n",
              "      <td>6.62</td>\n",
              "      <td>94.07</td>\n",
              "      <td>5.19</td>\n",
              "      <td>24.00</td>\n",
              "      <td>666.00</td>\n",
              "      <td>20.20</td>\n",
              "      <td>396.23</td>\n",
              "      <td>16.96</td>\n",
              "      <td>25.00</td>\n",
              "    </tr>\n",
              "    <tr>\n",
              "      <th>max</th>\n",
              "      <td>8.90e+01</td>\n",
              "      <td>100.00</td>\n",
              "      <td>27.74</td>\n",
              "      <td>1.00</td>\n",
              "      <td>0.87</td>\n",
              "      <td>8.78</td>\n",
              "      <td>100.00</td>\n",
              "      <td>12.13</td>\n",
              "      <td>24.00</td>\n",
              "      <td>711.00</td>\n",
              "      <td>22.00</td>\n",
              "      <td>396.90</td>\n",
              "      <td>37.97</td>\n",
              "      <td>50.00</td>\n",
              "    </tr>\n",
              "  </tbody>\n",
              "</table>\n",
              "</div>"
            ],
            "text/plain": [
              "           CRIM      ZN   INDUS    CHAS  ...  PTRATIO       B   LSTAT  target\n",
              "count  5.06e+02  506.00  506.00  506.00  ...   506.00  506.00  506.00  506.00\n",
              "mean   3.61e+00   11.36   11.14    0.07  ...    18.46  356.67   12.65   22.53\n",
              "std    8.60e+00   23.32    6.86    0.25  ...     2.16   91.29    7.14    9.20\n",
              "min    6.32e-03    0.00    0.46    0.00  ...    12.60    0.32    1.73    5.00\n",
              "25%    8.20e-02    0.00    5.19    0.00  ...    17.40  375.38    6.95   17.02\n",
              "50%    2.57e-01    0.00    9.69    0.00  ...    19.05  391.44   11.36   21.20\n",
              "75%    3.68e+00   12.50   18.10    0.00  ...    20.20  396.23   16.96   25.00\n",
              "max    8.90e+01  100.00   27.74    1.00  ...    22.00  396.90   37.97   50.00\n",
              "\n",
              "[8 rows x 14 columns]"
            ]
          },
          "metadata": {
            "tags": []
          },
          "execution_count": 10
        }
      ]
    },
    {
      "cell_type": "code",
      "metadata": {
        "colab": {
          "base_uri": "https://localhost:8080/",
          "height": 879
        },
        "id": "SccEs7PT63Wn",
        "outputId": "b7a8fb35-7cf7-412f-fb1a-7133f1dbfd50"
      },
      "source": [
        "# Data visualizations\n",
        "\n",
        "# histograms\n",
        "df.hist(bins=10,figsize=(15, 15), grid=False)\n",
        "\n",
        "# save the plot \n",
        "#plt.savefig('INSERT PATH')\n",
        "plt.show()"
      ],
      "execution_count": 11,
      "outputs": [
        {
          "output_type": "display_data",
          "data": {
            "image/png": "[encoded data removed]",
            "text/plain": [
              "<Figure size 1080x1080 with 16 Axes>"
            ]
          },
          "metadata": {
            "tags": [],
            "needs_background": "light"
          }
        }
      ]
    },
    {
      "cell_type": "markdown",
      "metadata": {
        "id": "X7t__KoT63Wn"
      },
      "source": [
        "## 5. Multivariate exploration"
      ]
    },
    {
      "cell_type": "code",
      "metadata": {
        "colab": {
          "base_uri": "https://localhost:8080/",
          "height": 452
        },
        "id": "VbHn7PtA63Wn",
        "outputId": "87b49473-1b50-49e2-b0af-227fc4a5fef9"
      },
      "source": [
        "# correlation analysis\n",
        "pd.set_option('precision', 2)\n",
        "df.drop(['CHAS'], axis=1).corr(method='pearson')"
      ],
      "execution_count": 12,
      "outputs": [
        {
          "output_type": "execute_result",
          "data": {
            "text/html": [
              "<div>\n",
              "<style scoped>\n",
              "    .dataframe tbody tr th:only-of-type {\n",
              "        vertical-align: middle;\n",
              "    }\n",
              "\n",
              "    .dataframe tbody tr th {\n",
              "        vertical-align: top;\n",
              "    }\n",
              "\n",
              "    .dataframe thead th {\n",
              "        text-align: right;\n",
              "    }\n",
              "</style>\n",
              "<table border=\"1\" class=\"dataframe\">\n",
              "  <thead>\n",
              "    <tr style=\"text-align: right;\">\n",
              "      <th></th>\n",
              "      <th>CRIM</th>\n",
              "      <th>ZN</th>\n",
              "      <th>INDUS</th>\n",
              "      <th>NOX</th>\n",
              "      <th>RM</th>\n",
              "      <th>AGE</th>\n",
              "      <th>DIS</th>\n",
              "      <th>RAD</th>\n",
              "      <th>TAX</th>\n",
              "      <th>PTRATIO</th>\n",
              "      <th>B</th>\n",
              "      <th>LSTAT</th>\n",
              "      <th>target</th>\n",
              "    </tr>\n",
              "  </thead>\n",
              "  <tbody>\n",
              "    <tr>\n",
              "      <th>CRIM</th>\n",
              "      <td>1.00</td>\n",
              "      <td>-0.20</td>\n",
              "      <td>0.41</td>\n",
              "      <td>0.42</td>\n",
              "      <td>-0.22</td>\n",
              "      <td>0.35</td>\n",
              "      <td>-0.38</td>\n",
              "      <td>0.63</td>\n",
              "      <td>0.58</td>\n",
              "      <td>0.29</td>\n",
              "      <td>-0.39</td>\n",
              "      <td>0.46</td>\n",
              "      <td>-0.39</td>\n",
              "    </tr>\n",
              "    <tr>\n",
              "      <th>ZN</th>\n",
              "      <td>-0.20</td>\n",
              "      <td>1.00</td>\n",
              "      <td>-0.53</td>\n",
              "      <td>-0.52</td>\n",
              "      <td>0.31</td>\n",
              "      <td>-0.57</td>\n",
              "      <td>0.66</td>\n",
              "      <td>-0.31</td>\n",
              "      <td>-0.31</td>\n",
              "      <td>-0.39</td>\n",
              "      <td>0.18</td>\n",
              "      <td>-0.41</td>\n",
              "      <td>0.36</td>\n",
              "    </tr>\n",
              "    <tr>\n",
              "      <th>INDUS</th>\n",
              "      <td>0.41</td>\n",
              "      <td>-0.53</td>\n",
              "      <td>1.00</td>\n",
              "      <td>0.76</td>\n",
              "      <td>-0.39</td>\n",
              "      <td>0.64</td>\n",
              "      <td>-0.71</td>\n",
              "      <td>0.60</td>\n",
              "      <td>0.72</td>\n",
              "      <td>0.38</td>\n",
              "      <td>-0.36</td>\n",
              "      <td>0.60</td>\n",
              "      <td>-0.48</td>\n",
              "    </tr>\n",
              "    <tr>\n",
              "      <th>NOX</th>\n",
              "      <td>0.42</td>\n",
              "      <td>-0.52</td>\n",
              "      <td>0.76</td>\n",
              "      <td>1.00</td>\n",
              "      <td>-0.30</td>\n",
              "      <td>0.73</td>\n",
              "      <td>-0.77</td>\n",
              "      <td>0.61</td>\n",
              "      <td>0.67</td>\n",
              "      <td>0.19</td>\n",
              "      <td>-0.38</td>\n",
              "      <td>0.59</td>\n",
              "      <td>-0.43</td>\n",
              "    </tr>\n",
              "    <tr>\n",
              "      <th>RM</th>\n",
              "      <td>-0.22</td>\n",
              "      <td>0.31</td>\n",
              "      <td>-0.39</td>\n",
              "      <td>-0.30</td>\n",
              "      <td>1.00</td>\n",
              "      <td>-0.24</td>\n",
              "      <td>0.21</td>\n",
              "      <td>-0.21</td>\n",
              "      <td>-0.29</td>\n",
              "      <td>-0.36</td>\n",
              "      <td>0.13</td>\n",
              "      <td>-0.61</td>\n",
              "      <td>0.70</td>\n",
              "    </tr>\n",
              "    <tr>\n",
              "      <th>AGE</th>\n",
              "      <td>0.35</td>\n",
              "      <td>-0.57</td>\n",
              "      <td>0.64</td>\n",
              "      <td>0.73</td>\n",
              "      <td>-0.24</td>\n",
              "      <td>1.00</td>\n",
              "      <td>-0.75</td>\n",
              "      <td>0.46</td>\n",
              "      <td>0.51</td>\n",
              "      <td>0.26</td>\n",
              "      <td>-0.27</td>\n",
              "      <td>0.60</td>\n",
              "      <td>-0.38</td>\n",
              "    </tr>\n",
              "    <tr>\n",
              "      <th>DIS</th>\n",
              "      <td>-0.38</td>\n",
              "      <td>0.66</td>\n",
              "      <td>-0.71</td>\n",
              "      <td>-0.77</td>\n",
              "      <td>0.21</td>\n",
              "      <td>-0.75</td>\n",
              "      <td>1.00</td>\n",
              "      <td>-0.49</td>\n",
              "      <td>-0.53</td>\n",
              "      <td>-0.23</td>\n",
              "      <td>0.29</td>\n",
              "      <td>-0.50</td>\n",
              "      <td>0.25</td>\n",
              "    </tr>\n",
              "    <tr>\n",
              "      <th>RAD</th>\n",
              "      <td>0.63</td>\n",
              "      <td>-0.31</td>\n",
              "      <td>0.60</td>\n",
              "      <td>0.61</td>\n",
              "      <td>-0.21</td>\n",
              "      <td>0.46</td>\n",
              "      <td>-0.49</td>\n",
              "      <td>1.00</td>\n",
              "      <td>0.91</td>\n",
              "      <td>0.46</td>\n",
              "      <td>-0.44</td>\n",
              "      <td>0.49</td>\n",
              "      <td>-0.38</td>\n",
              "    </tr>\n",
              "    <tr>\n",
              "      <th>TAX</th>\n",
              "      <td>0.58</td>\n",
              "      <td>-0.31</td>\n",
              "      <td>0.72</td>\n",
              "      <td>0.67</td>\n",
              "      <td>-0.29</td>\n",
              "      <td>0.51</td>\n",
              "      <td>-0.53</td>\n",
              "      <td>0.91</td>\n",
              "      <td>1.00</td>\n",
              "      <td>0.46</td>\n",
              "      <td>-0.44</td>\n",
              "      <td>0.54</td>\n",
              "      <td>-0.47</td>\n",
              "    </tr>\n",
              "    <tr>\n",
              "      <th>PTRATIO</th>\n",
              "      <td>0.29</td>\n",
              "      <td>-0.39</td>\n",
              "      <td>0.38</td>\n",
              "      <td>0.19</td>\n",
              "      <td>-0.36</td>\n",
              "      <td>0.26</td>\n",
              "      <td>-0.23</td>\n",
              "      <td>0.46</td>\n",
              "      <td>0.46</td>\n",
              "      <td>1.00</td>\n",
              "      <td>-0.18</td>\n",
              "      <td>0.37</td>\n",
              "      <td>-0.51</td>\n",
              "    </tr>\n",
              "    <tr>\n",
              "      <th>B</th>\n",
              "      <td>-0.39</td>\n",
              "      <td>0.18</td>\n",
              "      <td>-0.36</td>\n",
              "      <td>-0.38</td>\n",
              "      <td>0.13</td>\n",
              "      <td>-0.27</td>\n",
              "      <td>0.29</td>\n",
              "      <td>-0.44</td>\n",
              "      <td>-0.44</td>\n",
              "      <td>-0.18</td>\n",
              "      <td>1.00</td>\n",
              "      <td>-0.37</td>\n",
              "      <td>0.33</td>\n",
              "    </tr>\n",
              "    <tr>\n",
              "      <th>LSTAT</th>\n",
              "      <td>0.46</td>\n",
              "      <td>-0.41</td>\n",
              "      <td>0.60</td>\n",
              "      <td>0.59</td>\n",
              "      <td>-0.61</td>\n",
              "      <td>0.60</td>\n",
              "      <td>-0.50</td>\n",
              "      <td>0.49</td>\n",
              "      <td>0.54</td>\n",
              "      <td>0.37</td>\n",
              "      <td>-0.37</td>\n",
              "      <td>1.00</td>\n",
              "      <td>-0.74</td>\n",
              "    </tr>\n",
              "    <tr>\n",
              "      <th>target</th>\n",
              "      <td>-0.39</td>\n",
              "      <td>0.36</td>\n",
              "      <td>-0.48</td>\n",
              "      <td>-0.43</td>\n",
              "      <td>0.70</td>\n",
              "      <td>-0.38</td>\n",
              "      <td>0.25</td>\n",
              "      <td>-0.38</td>\n",
              "      <td>-0.47</td>\n",
              "      <td>-0.51</td>\n",
              "      <td>0.33</td>\n",
              "      <td>-0.74</td>\n",
              "      <td>1.00</td>\n",
              "    </tr>\n",
              "  </tbody>\n",
              "</table>\n",
              "</div>"
            ],
            "text/plain": [
              "         CRIM    ZN  INDUS   NOX    RM  ...   TAX  PTRATIO     B  LSTAT  target\n",
              "CRIM     1.00 -0.20   0.41  0.42 -0.22  ...  0.58     0.29 -0.39   0.46   -0.39\n",
              "ZN      -0.20  1.00  -0.53 -0.52  0.31  ... -0.31    -0.39  0.18  -0.41    0.36\n",
              "INDUS    0.41 -0.53   1.00  0.76 -0.39  ...  0.72     0.38 -0.36   0.60   -0.48\n",
              "NOX      0.42 -0.52   0.76  1.00 -0.30  ...  0.67     0.19 -0.38   0.59   -0.43\n",
              "RM      -0.22  0.31  -0.39 -0.30  1.00  ... -0.29    -0.36  0.13  -0.61    0.70\n",
              "AGE      0.35 -0.57   0.64  0.73 -0.24  ...  0.51     0.26 -0.27   0.60   -0.38\n",
              "DIS     -0.38  0.66  -0.71 -0.77  0.21  ... -0.53    -0.23  0.29  -0.50    0.25\n",
              "RAD      0.63 -0.31   0.60  0.61 -0.21  ...  0.91     0.46 -0.44   0.49   -0.38\n",
              "TAX      0.58 -0.31   0.72  0.67 -0.29  ...  1.00     0.46 -0.44   0.54   -0.47\n",
              "PTRATIO  0.29 -0.39   0.38  0.19 -0.36  ...  0.46     1.00 -0.18   0.37   -0.51\n",
              "B       -0.39  0.18  -0.36 -0.38  0.13  ... -0.44    -0.18  1.00  -0.37    0.33\n",
              "LSTAT    0.46 -0.41   0.60  0.59 -0.61  ...  0.54     0.37 -0.37   1.00   -0.74\n",
              "target  -0.39  0.36  -0.48 -0.43  0.70  ... -0.47    -0.51  0.33  -0.74    1.00\n",
              "\n",
              "[13 rows x 13 columns]"
            ]
          },
          "metadata": {
            "tags": []
          },
          "execution_count": 12
        }
      ]
    },
    {
      "cell_type": "code",
      "metadata": {
        "colab": {
          "base_uri": "https://localhost:8080/",
          "height": 350
        },
        "id": "K5ZzV_KX63Wn",
        "outputId": "42fbeec9-b663-4de8-af3c-925d4480a3f2"
      },
      "source": [
        "# bivariate plots with high correlation features (>0.4)\n",
        "features = df.drop(['CRIM', 'ZN', 'CHAS',  'AGE', 'DIS', 'RAD', 'B', 'target'], axis = 1)\n",
        "plt.figure(figsize=(20, 5))\n",
        "\n",
        "# i: index\n",
        "for i, col in enumerate(features.columns):\n",
        "    # 3 plots here hence 1, 3\n",
        "    plt.subplot(1, 6, i+1)\n",
        "    x = df[col]\n",
        "    y = df.target\n",
        "    plt.plot(x, y, 'o')\n",
        "    \n",
        "    # Create regression line\n",
        "    plt.plot(np.unique(x), np.poly1d(np.polyfit(x, y, 1))(np.unique(x)))\n",
        "    plt.title(col)\n",
        "    plt.xlabel(col)\n",
        "    plt.ylabel('target')\n",
        "\n",
        "#plt.savefig('INSERT PATH')\n",
        "plt.show()"
      ],
      "execution_count": 13,
      "outputs": [
        {
          "output_type": "display_data",
          "data": {
            "image/png": "[encoded data removed]",
            "text/plain": [
              "<Figure size 1440x360 with 6 Axes>"
            ]
          },
          "metadata": {
            "tags": [],
            "needs_background": "light"
          }
        }
      ]
    },
    {
      "cell_type": "markdown",
      "metadata": {
        "id": "s3rrXtPa63Wo"
      },
      "source": [
        "## 6. Data Preprocessing "
      ]
    },
    {
      "cell_type": "code",
      "metadata": {
        "colab": {
          "base_uri": "https://localhost:8080/",
          "height": 0
        },
        "id": "sHFAMiZL63Wo",
        "outputId": "18ce86c2-757b-463c-df7d-1de9b20e7e0f"
      },
      "source": [
        "# Delecte categorical variable CHAS \n",
        "# CHAS = Charles River dummy variable (= 1 if tract bounds river; 0 otherwise).\n",
        "data = np.delete(data, 3, 1)\n",
        "feature_names = np.delete(feature_names, 3)\n",
        "feature_names"
      ],
      "execution_count": 14,
      "outputs": [
        {
          "output_type": "execute_result",
          "data": {
            "text/plain": [
              "array(['CRIM', 'ZN', 'INDUS', 'NOX', 'RM', 'AGE', 'DIS', 'RAD', 'TAX',\n",
              "       'PTRATIO', 'B', 'LSTAT'], dtype='<U7')"
            ]
          },
          "metadata": {
            "tags": []
          },
          "execution_count": 14
        }
      ]
    },
    {
      "cell_type": "code",
      "metadata": {
        "id": "WfEPU1GY63Wo"
      },
      "source": [
        "# Standardize data \n",
        "mu = data.mean(axis=0)\n",
        "sigma = data.std(axis=0)\n",
        "data = (data - mu) / sigma"
      ],
      "execution_count": 15,
      "outputs": []
    },
    {
      "cell_type": "markdown",
      "metadata": {
        "id": "YFGIeU3B63Wo"
      },
      "source": [
        "## 7. Machine learning Modeling with Tensorflow"
      ]
    },
    {
      "cell_type": "code",
      "metadata": {
        "id": "_pArnpNp63Wq"
      },
      "source": [
        "# we split data into train and test, before categorizing y_train and y_test\n",
        "idx = 475\n",
        "x_train, y_train = data[:idx,:], y_cat[:idx]\n",
        "x_test, y_test = data[idx:,:], y_cat[idx:]\n",
        "\n",
        "y_train = to_categorical(y_train)\n",
        "y_test = to_categorical(y_test)"
      ],
      "execution_count": 16,
      "outputs": []
    },
    {
      "cell_type": "code",
      "metadata": {
        "colab": {
          "base_uri": "https://localhost:8080/",
          "height": 0
        },
        "id": "eOICVbbp63Wq",
        "outputId": "a1c72856-37ed-428e-f4f4-1a8235e05384"
      },
      "source": [
        "# quick check on shapes\n",
        "print(y_train.shape)\n",
        "print(y_test.shape)"
      ],
      "execution_count": 17,
      "outputs": [
        {
          "output_type": "stream",
          "text": [
            "(475, 2)\n",
            "(31, 2)\n"
          ],
          "name": "stdout"
        }
      ]
    },
    {
      "cell_type": "markdown",
      "metadata": {
        "id": "9_3bjd8R63Wq"
      },
      "source": [
        "## 8. The Tensorflow Model"
      ]
    },
    {
      "cell_type": "code",
      "metadata": {
        "id": "0WmpEIDp63Wq"
      },
      "source": [
        "# we compute two distinct metrics\n",
        "from tensorflow import keras\n",
        "METRICS = [ \n",
        "      keras.metrics.BinaryAccuracy(name='accuracy'),\n",
        "      keras.metrics.AUC(name='auc')\n",
        "]"
      ],
      "execution_count": 18,
      "outputs": []
    },
    {
      "cell_type": "code",
      "metadata": {
        "id": "ECkHauxB63Wq"
      },
      "source": [
        "# neural network: model definition\n",
        "def nn_model():\n",
        "    x_in = Input(shape=(12,))\n",
        "    x = Dense(40, activation='relu')(x_in)\n",
        "    x = Dense(40, activation='relu')(x)\n",
        "    x_out = Dense(2, activation='softmax')(x)\n",
        "    nn = Model(inputs=x_in, outputs=x_out)\n",
        "    nn.compile(loss='categorical_crossentropy', optimizer='sgd', metrics=METRICS)\n",
        "    return nn"
      ],
      "execution_count": 19,
      "outputs": []
    },
    {
      "cell_type": "code",
      "metadata": {
        "colab": {
          "base_uri": "https://localhost:8080/",
          "height": 0
        },
        "id": "wk9yrHbn63Wr",
        "outputId": "96f147f3-40fc-4591-c906-5cd91be18f9f"
      },
      "source": [
        "# fitting and saving the model\n",
        "nn = nn_model()\n",
        "nn.summary()\n",
        "nn.fit(x_train, y_train, batch_size=64, epochs=500, verbose=0)\n",
        "nn.save('INSERT MODEL NAME.h5', save_format='h5')"
      ],
      "execution_count": 20,
      "outputs": [
        {
          "output_type": "stream",
          "text": [
            "Model: \"functional_1\"\n",
            "_________________________________________________________________\n",
            "Layer (type)                 Output Shape              Param #   \n",
            "=================================================================\n",
            "input_1 (InputLayer)         [(None, 12)]              0         \n",
            "_________________________________________________________________\n",
            "dense (Dense)                (None, 40)                520       \n",
            "_________________________________________________________________\n",
            "dense_1 (Dense)              (None, 40)                1640      \n",
            "_________________________________________________________________\n",
            "dense_2 (Dense)              (None, 2)                 82        \n",
            "=================================================================\n",
            "Total params: 2,242\n",
            "Trainable params: 2,242\n",
            "Non-trainable params: 0\n",
            "_________________________________________________________________\n"
          ],
          "name": "stdout"
        }
      ]
    },
    {
      "cell_type": "code",
      "metadata": {
        "colab": {
          "base_uri": "https://localhost:8080/",
          "height": 0
        },
        "id": "2KlG_Itv63Wr",
        "outputId": "483ab1d9-3297-4bfe-a855-6fdd6acd4ad5"
      },
      "source": [
        "# loading the model and computing test performance\n",
        "nn = load_model('INSERT MODEL NAME.h5')  \n",
        "score = nn.evaluate(x_test, y_test, verbose=0)\n",
        "print(nn.metrics_names)\n",
        "print('Test accuracy: ', score[1])\n",
        "print('Test AUC: ', score[2])"
      ],
      "execution_count": 21,
      "outputs": [
        {
          "output_type": "stream",
          "text": [
            "['loss', 'accuracy', 'auc']\n",
            "Test accuracy:  0.83870965\n",
            "Test AUC:  0.9219563\n"
          ],
          "name": "stdout"
        }
      ]
    },
    {
      "cell_type": "code",
      "metadata": {
        "id": "YmYewiTB63Wr"
      },
      "source": [
        "# saving model weights\n",
        "nn.save_weights('INSERT PATH')"
      ],
      "execution_count": 22,
      "outputs": []
    },
    {
      "cell_type": "markdown",
      "metadata": {
        "id": "TyY5h_Xo63Wr"
      },
      "source": [
        "## 9. Generation of Counterfactual Explanations"
      ]
    },
    {
      "cell_type": "code",
      "metadata": {
        "colab": {
          "base_uri": "https://localhost:8080/",
          "height": 0
        },
        "id": "y3kBmnhF63Wr",
        "outputId": "9254c350-aa4d-43dc-ae67-e84eae3b4c7d"
      },
      "source": [
        "# we choose a data point (whose outcome) to be explained\n",
        "# in the notes we used x_test[1] and x_test[2]\n",
        "X = x_test[1].reshape((1,) + x_test[1].shape)\n",
        "shape = X.shape\n",
        "X"
      ],
      "execution_count": 23,
      "outputs": [
        {
          "output_type": "execute_result",
          "data": {
            "text/plain": [
              "array([[ 0.14638431, -0.48772236,  1.01599907,  0.51229565,  0.28402795,\n",
              "         0.88990683, -0.7081777 ,  1.66124525,  1.53092646,  0.80657583,\n",
              "         0.43348653,  0.84481853]])"
            ]
          },
          "metadata": {
            "tags": []
          },
          "execution_count": 23
        }
      ]
    },
    {
      "cell_type": "code",
      "metadata": {
        "colab": {
          "base_uri": "https://localhost:8080/",
          "height": 0
        },
        "id": "n_rJIqPd63Ws",
        "outputId": "a61d86cc-3386-464f-a625-6a12848d93cd"
      },
      "source": [
        "# unnormalizing X - original values\n",
        "orig = X * sigma + mu\n",
        "orig"
      ],
      "execution_count": 24,
      "outputs": [
        {
          "output_type": "execute_result",
          "data": {
            "text/plain": [
              "array([[4.87141e+00, 0.00000e+00, 1.81000e+01, 6.14000e-01, 6.48400e+00,\n",
              "        9.36000e+01, 2.30530e+00, 2.40000e+01, 6.66000e+02, 2.02000e+01,\n",
              "        3.96210e+02, 1.86800e+01]])"
            ]
          },
          "metadata": {
            "tags": []
          },
          "execution_count": 24
        }
      ]
    },
    {
      "cell_type": "code",
      "metadata": {
        "id": "YEo6HVcK63Ws"
      },
      "source": [
        "# checkpoint: use the fitted model or load another one\n",
        "nn = load_model('INSERT MODEL NAME.h5')  "
      ],
      "execution_count": 25,
      "outputs": []
    },
    {
      "cell_type": "code",
      "metadata": {
        "id": "j7qCva9e63Ws"
      },
      "source": [
        "# alibi imports\n",
        "import alibi\n",
        "from alibi.explainers import CounterFactual"
      ],
      "execution_count": 26,
      "outputs": []
    },
    {
      "cell_type": "code",
      "metadata": {
        "id": "cOI8bHfu63Ws"
      },
      "source": [
        "# setting the parameters for configurations 1,2\n",
        "target_proba = 1.0\n",
        "tol = 0.1\n",
        "target_class = 'other'\n",
        "max_iter = 1000\n",
        "lam_init = 1\n",
        "max_lam_steps = 100\n",
        "learning_rate_init = 0.1 "
      ],
      "execution_count": 27,
      "outputs": []
    },
    {
      "cell_type": "code",
      "metadata": {
        "id": "cdjNrJHn63Ws"
      },
      "source": [
        "# preparation to compute counterfactuals\n",
        "cf = CounterFactual(nn, \n",
        "                    target_proba=target_proba, \n",
        "                    target_class='other',\n",
        "                    tol=tol, \n",
        "                    shape=shape,\n",
        "                    #early_stop=50,\n",
        "                    feature_range= (x_train.min(axis=0), x_train.max(axis=0)), \n",
        "                    max_iter=max_iter, \n",
        "                    lam_init=lam_init, \n",
        "                    max_lam_steps=max_lam_steps,\n",
        "                    learning_rate_init=learning_rate_init)"
      ],
      "execution_count": 28,
      "outputs": []
    },
    {
      "cell_type": "code",
      "metadata": {
        "colab": {
          "base_uri": "https://localhost:8080/",
          "height": 0
        },
        "id": "TzaI5bJ463Wt",
        "outputId": "d8fcd078-2855-4e98-e167-5dbae99ef40f"
      },
      "source": [
        "# computing counterfactuals\n",
        "%%time\n",
        "explanation = cf.explain(X)\n",
        "counterfactual = explanation.cf['X'][0]\n",
        "counterfactual"
      ],
      "execution_count": 29,
      "outputs": [
        {
          "output_type": "stream",
          "text": [
            "CPU times: user 31.5 s, sys: 1.65 s, total: 33.2 s\n",
            "Wall time: 30.1 s\n"
          ],
          "name": "stdout"
        }
      ]
    },
    {
      "cell_type": "code",
      "metadata": {
        "colab": {
          "base_uri": "https://localhost:8080/",
          "height": 0
        },
        "id": "pC5zQ6pX63Wt",
        "outputId": "e48bec11-2f32-48da-bd25-570b9a66b60b"
      },
      "source": [
        "# probability of X\n",
        "explanation.orig_proba"
      ],
      "execution_count": 30,
      "outputs": [
        {
          "output_type": "execute_result",
          "data": {
            "text/plain": [
              "0.9358271956443787"
            ]
          },
          "metadata": {
            "tags": []
          },
          "execution_count": 30
        }
      ]
    },
    {
      "cell_type": "code",
      "metadata": {
        "colab": {
          "base_uri": "https://localhost:8080/",
          "height": 0
        },
        "id": "j9k3J38U63Wt",
        "outputId": "0ea848f5-aeda-463e-fcaf-2bc2bdcd3d57"
      },
      "source": [
        "# probabilities of the counterfactual\n",
        "explanation.cf['proba']"
      ],
      "execution_count": 31,
      "outputs": [
        {
          "output_type": "execute_result",
          "data": {
            "text/plain": [
              "array([[0.09846023, 0.90153974]], dtype=float32)"
            ]
          },
          "metadata": {
            "tags": []
          },
          "execution_count": 31
        }
      ]
    },
    {
      "cell_type": "code",
      "metadata": {
        "colab": {
          "base_uri": "https://localhost:8080/",
          "height": 0
        },
        "id": "5pnN4hsS63Wt",
        "outputId": "338d27ce-fc9f-46cd-e154-73c03eb0e417"
      },
      "source": [
        "# counterfactual data point\n",
        "counterfactual"
      ],
      "execution_count": 32,
      "outputs": [
        {
          "output_type": "execute_result",
          "data": {
            "text/plain": [
              "array([ 0.14711657, -0.48772237,  1.0122546 ,  0.51205105,  0.28467363,\n",
              "        0.8893798 , -0.70776516,  1.6612452 ,  1.5309265 ,  0.8068432 ,\n",
              "        0.4333098 , -0.4740874 ], dtype=float32)"
            ]
          },
          "metadata": {
            "tags": []
          },
          "execution_count": 32
        }
      ]
    },
    {
      "cell_type": "code",
      "metadata": {
        "colab": {
          "base_uri": "https://localhost:8080/",
          "height": 0
        },
        "id": "0oGu1OKe63Wu",
        "outputId": "bde7e0d8-7f79-49e3-dd94-bf1b0e48fd9e"
      },
      "source": [
        "# checking classes\n",
        "print('Original prediction: {}'.format(explanation.orig_class))\n",
        "print('Counterfactual prediction: {}'.format(explanation.cf['class']))"
      ],
      "execution_count": 33,
      "outputs": [
        {
          "output_type": "stream",
          "text": [
            "Original prediction: 0\n",
            "Counterfactual prediction: 1\n"
          ],
          "name": "stdout"
        }
      ]
    },
    {
      "cell_type": "code",
      "metadata": {
        "colab": {
          "base_uri": "https://localhost:8080/",
          "height": 0
        },
        "id": "ju7HRODn63Wu",
        "outputId": "4d389267-5574-4481-daaa-eb7ea1b5f1fb"
      },
      "source": [
        "# list of deltas with tolerance 1e-4 (see notes)\n",
        "orig = X * sigma + mu\n",
        "counterfactual = explanation.cf['X'] * sigma + mu\n",
        "delta = counterfactual - orig\n",
        "for i, f in enumerate(feature_names):\n",
        "    if np.abs(delta[0][i]) > 1e-4:\n",
        "        print('{}: {}'.format(f, delta[0][i]))"
      ],
      "execution_count": 34,
      "outputs": [
        {
          "output_type": "stream",
          "text": [
            "CRIM: 0.0062923410888346964\n",
            "INDUS: -0.025663023494317372\n",
            "RM: 0.0004532183223036057\n",
            "AGE: -0.01482050894725262\n",
            "DIS: 0.0008678233497860788\n",
            "PTRATIO: 0.0005783043346632155\n",
            "B: -0.016118760625147388\n",
            "LSTAT: -9.409076955973617\n"
          ],
          "name": "stdout"
        }
      ]
    },
    {
      "cell_type": "code",
      "metadata": {
        "id": "x57TFVVi63Wu"
      },
      "source": [
        "# End of notebook"
      ],
      "execution_count": 35,
      "outputs": []
    }
  ]
}